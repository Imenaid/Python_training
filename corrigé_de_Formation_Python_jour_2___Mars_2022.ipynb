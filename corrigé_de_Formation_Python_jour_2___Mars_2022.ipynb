{
  "nbformat": 4,
  "nbformat_minor": 0,
  "metadata": {
    "colab": {
      "name": "corrigé de  Formation Python jour 2 _ Mars 2022.ipynb",
      "provenance": [],
      "collapsed_sections": []
    },
    "kernelspec": {
      "name": "python3",
      "display_name": "Python 3"
    },
    "language_info": {
      "name": "python"
    }
  },
  "cells": [
    {
      "cell_type": "markdown",
      "source": [
        "<font face=\"Comic Sans MS\" color=\"#4355d3\" size=6>Formation Python par la pratique - ESGITECH -"
      ],
      "metadata": {
        "id": "RScOa7r7WCZJ"
      }
    },
    {
      "cell_type": "markdown",
      "source": [
        "Ecrire un programme qui permet de saisir et d'afficher les identifiants de N étudiants et leurs moyennes. N est le nombre d'étudiants choisi par l'utilisateur et qui doit etre positif."
      ],
      "metadata": {
        "id": "Ts1wH9LTSaY7"
      }
    },
    {
      "cell_type": "code",
      "source": [
        "etudiants={}\n",
        "list_moyennes=[]\n",
        "\n",
        "test = False\n",
        "while test == False:\n",
        "  n= int(input(\"Donner le nombre des etudiants \"))\n",
        "  if (n > 0):\n",
        "    test = True\n",
        "\n",
        "for i in range(n):\n",
        "   id = int(input(\"donner un identifiant \"))\n",
        "   moy= float(input(f\"donner un la moyenne de l'etudiant N° {id} \"))\n",
        "   list_moyennes.append(moy)\n",
        "   etudiants[id]= moy\n"
      ],
      "metadata": {
        "id": "3pYFJN0lSbPR",
        "colab": {
          "base_uri": "https://localhost:8080/"
        },
        "outputId": "3b63d126-5fad-4ad0-96f7-e5767da953f8"
      },
      "execution_count": null,
      "outputs": [
        {
          "output_type": "stream",
          "name": "stdout",
          "text": [
            "Donner le nombre des etudiants 3\n",
            "donner un identifiant 1\n",
            "donner un la moyenne de l'etudiant N° 1 15\n",
            "donner un identifiant 2\n",
            "donner un la moyenne de l'etudiant N° 2 17\n",
            "donner un identifiant 3\n",
            "donner un la moyenne de l'etudiant N° 3 18\n",
            "{1: 15.0, 2: 17.0, 3: 18.0}\n"
          ]
        }
      ]
    },
    {
      "cell_type": "code",
      "source": [
        "print(\"les moyennes: \", etudiants) "
      ],
      "metadata": {
        "colab": {
          "base_uri": "https://localhost:8080/"
        },
        "id": "SJueNQLEDDQl",
        "outputId": "6192ec13-6606-4ebe-cdd0-bea29c748cb1"
      },
      "execution_count": null,
      "outputs": [
        {
          "output_type": "stream",
          "name": "stdout",
          "text": [
            "les moyennes:  {1: 15.0, 2: 17.0, 3: 18.0}\n"
          ]
        }
      ]
    },
    {
      "cell_type": "markdown",
      "source": [
        "Ajouter du code à l'exercice précédent pour pouvoir afficher l'identifiant de l'étudiant ayant la plus grande moyenne."
      ],
      "metadata": {
        "id": "rBuY6VlpV9h6"
      }
    },
    {
      "cell_type": "code",
      "source": [
        "list_moy= list(etudiants.values())\n",
        "print(list_moy)\n",
        "max_moy= max(list_moy)\n",
        "print(list_moy.index(max_moy))\n",
        "\n",
        "list_keys= list(etudiants.keys())\n",
        "print(\"l'identifiant de l'étudiant ayant la plus grande moyenne est \",list_keys[list_moy.index(max_moy)])\n"
      ],
      "metadata": {
        "id": "TQUNDWixV-PA",
        "colab": {
          "base_uri": "https://localhost:8080/"
        },
        "outputId": "97cf1bd4-6454-4854-f7d4-ec97c2878575"
      },
      "execution_count": null,
      "outputs": [
        {
          "output_type": "stream",
          "name": "stdout",
          "text": [
            "[15.0, 17.0, 18.0]\n",
            "2\n",
            "l'identifiant de l'étudiant ayant la plus grande moyenne est  3\n"
          ]
        }
      ]
    },
    {
      "cell_type": "markdown",
      "source": [
        "# <font face=\"Comic Sans MS\" color=\"#C70039\" size=5> les fonctions"
      ],
      "metadata": {
        "id": "s0ZUOK4XDghF"
      }
    },
    {
      "cell_type": "markdown",
      "source": [
        "Ecrire une fonction qui calcule le carré d'un nombre donné par l'utilisateur"
      ],
      "metadata": {
        "id": "3_8eA3iTCpes"
      }
    },
    {
      "cell_type": "code",
      "source": [
        "def calcul():\n",
        "    x = int(input(\"donner un entier \"))\n",
        "    return(x**2)\n"
      ],
      "metadata": {
        "id": "qAUo-XXcDA9a"
      },
      "execution_count": null,
      "outputs": []
    },
    {
      "cell_type": "code",
      "source": [
        "calcul()"
      ],
      "metadata": {
        "colab": {
          "base_uri": "https://localhost:8080/"
        },
        "id": "V5o1iv2oG7QU",
        "outputId": "808db087-7aaa-4d5d-a9ca-c3223d6825c6"
      },
      "execution_count": null,
      "outputs": [
        {
          "name": "stdout",
          "output_type": "stream",
          "text": [
            "donner un entier 5\n"
          ]
        },
        {
          "output_type": "execute_result",
          "data": {
            "text/plain": [
              "25"
            ]
          },
          "metadata": {},
          "execution_count": 10
        }
      ]
    },
    {
      "cell_type": "markdown",
      "source": [
        "Ecrire une fonction qui permet la saisie de deux notes (math et informatique) et le calcul de leurs moyenne "
      ],
      "metadata": {
        "id": "R8eDMOWQDK78"
      }
    },
    {
      "cell_type": "markdown",
      "source": [
        "calcul moyenne"
      ],
      "metadata": {
        "id": "-OhhnORRyQs9"
      }
    },
    {
      "cell_type": "code",
      "source": [
        "def moyenne(a,b):\n",
        "   moy = (a+b)/2\n",
        "   return(moy)\n",
        "  "
      ],
      "metadata": {
        "id": "8F1f8YyUDYfV"
      },
      "execution_count": null,
      "outputs": []
    },
    {
      "cell_type": "markdown",
      "source": [
        "fonction saisie"
      ],
      "metadata": {
        "id": "0hJk1qWTyZ_r"
      }
    },
    {
      "cell_type": "code",
      "source": [
        "def saisie():\n",
        "  x = int(input(\"donner un entier \"))\n",
        "  y = int(input(\"donner un entier \"))\n",
        "  return(x,y)\n",
        "\n",
        "n1 , n2 = saisie()   "
      ],
      "metadata": {
        "id": "slpYP-_WyZNl",
        "colab": {
          "base_uri": "https://localhost:8080/"
        },
        "outputId": "6e7833f9-e2d5-4318-835a-a41dd7d2ce9d"
      },
      "execution_count": null,
      "outputs": [
        {
          "name": "stdout",
          "output_type": "stream",
          "text": [
            "donner un entier 10\n",
            "donner un entier 11\n"
          ]
        }
      ]
    },
    {
      "cell_type": "code",
      "source": [
        "def saisie():\n",
        "  x = int(input(\"donner un entier \"))\n",
        "  return(x)\n",
        "\n",
        "n1 = saisie() \n",
        "n2 = saisie()"
      ],
      "metadata": {
        "id": "aCV3iCPqJCpP"
      },
      "execution_count": null,
      "outputs": []
    },
    {
      "cell_type": "code",
      "source": [
        "print(n1,n2)\n",
        "print(moyenne(n1,n2))"
      ],
      "metadata": {
        "colab": {
          "base_uri": "https://localhost:8080/"
        },
        "id": "3exEtmWcIO9-",
        "outputId": "de4c6d3d-ac3c-408c-bb3e-3b3ba1aebeb2"
      },
      "execution_count": null,
      "outputs": [
        {
          "output_type": "stream",
          "name": "stdout",
          "text": [
            "10 11\n",
            "10.5\n"
          ]
        }
      ]
    },
    {
      "cell_type": "markdown",
      "source": [
        "Ecrire une fonction qui calcule le carré et la racine d'un nombre saisie par l'utilisateur"
      ],
      "metadata": {
        "id": "psH4sP0eDqEp"
      }
    },
    {
      "cell_type": "code",
      "source": [
        "from math import *\n",
        "\n",
        "def fn_sqrt():\n",
        "  x = int(input(\"donner un entier \"))\n",
        "  return(sqrt(x))\n",
        "\n",
        "print(fn_sqrt())\n"
      ],
      "metadata": {
        "id": "52eqseNHDyQY",
        "colab": {
          "base_uri": "https://localhost:8080/"
        },
        "outputId": "a6ab29c2-f82e-4c88-e071-215827b96152"
      },
      "execution_count": null,
      "outputs": [
        {
          "output_type": "stream",
          "name": "stdout",
          "text": [
            "donner un entier 5\n",
            "2.23606797749979\n"
          ]
        }
      ]
    },
    {
      "cell_type": "markdown",
      "source": [
        "Ecriture formatée du résultat"
      ],
      "metadata": {
        "id": "ZbGR7UgWwSjM"
      }
    },
    {
      "cell_type": "code",
      "source": [
        "n = int(input(\"donner un entier \"))\n",
        "print(f\"le carre du {n} est {n**2}, la racine est {sqrt(n)} \")"
      ],
      "metadata": {
        "colab": {
          "base_uri": "https://localhost:8080/"
        },
        "id": "Y7oKOMJA4ywM",
        "outputId": "6117a46a-4cfd-4815-c07e-6c77fea58bc8"
      },
      "execution_count": null,
      "outputs": [
        {
          "output_type": "stream",
          "name": "stdout",
          "text": [
            "donner un entier 5\n",
            "le carre du 5 est 25, la racine est 2.23606797749979 \n"
          ]
        }
      ]
    },
    {
      "cell_type": "markdown",
      "source": [
        "Ecrire une fonction qui permet de saisir les identifiants des étudiants et leurs moyennes"
      ],
      "metadata": {
        "id": "ljiu_T5uD0dn"
      }
    },
    {
      "cell_type": "code",
      "source": [
        "def saisie_n():\n",
        "  test = False\n",
        "  while test == False:\n",
        "      n= int(input(\"Donner le nombre des etudiants \"))\n",
        "      if (n > 0):\n",
        "        test = True\n",
        "  return(n)      \n",
        "\n",
        "def saisie_etudiants(n):\n",
        "    etudiants={}\n",
        "    list_moyennes=[]\n",
        "    for i in range(n):\n",
        "      id = int(input(\"donner un identifiant \"))\n",
        "      moy= float(input(f\"donner un la moyenne de l'etudiant N° {id} \"))\n",
        "      list_moyennes.append(moy)\n",
        "      etudiants[id]= moy\n",
        "    return(etudiants)\n",
        "   "
      ],
      "metadata": {
        "id": "L9lx0RMdD0r4"
      },
      "execution_count": null,
      "outputs": []
    },
    {
      "cell_type": "code",
      "source": [
        "nb = saisie_n()\n",
        "dict_etudiants = saisie_etudiants(nb)\n",
        "print(dict_etudiants)\n"
      ],
      "metadata": {
        "colab": {
          "base_uri": "https://localhost:8080/"
        },
        "id": "m2ro4dr4NT2D",
        "outputId": "9fb5a59f-cf2d-4baf-c7ff-4811dd0e3a26"
      },
      "execution_count": null,
      "outputs": [
        {
          "output_type": "stream",
          "name": "stdout",
          "text": [
            "Donner le nombre des etudiants 3\n",
            "donner un identifiant 1\n",
            "donner un la moyenne de l'etudiant N° 1 16\n",
            "donner un identifiant 2\n",
            "donner un la moyenne de l'etudiant N° 2 15\n",
            "donner un identifiant 3\n",
            "donner un la moyenne de l'etudiant N° 3 18\n",
            "{1: 16.0, 2: 15.0, 3: 18.0}\n"
          ]
        }
      ]
    },
    {
      "cell_type": "markdown",
      "source": [
        "Ecrire une fonction qui permet de faire la recherche d'un identifiant donné par l'utilisateur dans la liste des étudiants"
      ],
      "metadata": {
        "id": "LcVnilJ6GtfO"
      }
    },
    {
      "cell_type": "code",
      "source": [
        "id = int(input(\"donner un identifiant \"))\n",
        "list_keys = list(dict_etudiants.keys())\n",
        "\n",
        "if id in list_keys :\n",
        "   print(\"identifiant trouvé !\")\n",
        "else:\n",
        "   print(\"identifiant non trouvé !\") \n"
      ],
      "metadata": {
        "id": "7qNcpAaDJHtg",
        "colab": {
          "base_uri": "https://localhost:8080/"
        },
        "outputId": "71eeb1e3-fa26-4891-9ad9-20a16c5fe4ca"
      },
      "execution_count": null,
      "outputs": [
        {
          "output_type": "stream",
          "name": "stdout",
          "text": [
            "donner un identifiant 2\n",
            "identifiant trouvé !\n"
          ]
        }
      ]
    },
    {
      "cell_type": "markdown",
      "source": [
        "# <font face=\"Comic Sans MS\" color=\"#C70039\" size=5> les fichiers"
      ],
      "metadata": {
        "id": "9DdAyxrB5dhR"
      }
    },
    {
      "cell_type": "markdown",
      "source": [
        "Ouvrir un fichier"
      ],
      "metadata": {
        "id": "R40JvpiY5jDg"
      }
    },
    {
      "cell_type": "code",
      "source": [
        "f = open(\"myfile.txt\",\"w\")"
      ],
      "metadata": {
        "id": "XFuVIfYG5l7X"
      },
      "execution_count": null,
      "outputs": []
    },
    {
      "cell_type": "markdown",
      "source": [
        "Ecrire dans un fichier"
      ],
      "metadata": {
        "id": "lLqGFlWt5nsn"
      }
    },
    {
      "cell_type": "code",
      "source": [
        "lignes = [\"- ligne 1 \\n\", \"- ligne 2 \\n\", \"- ligne 3 \\n\"]\n",
        "\n",
        "\n",
        "f.writelines(lignes)"
      ],
      "metadata": {
        "id": "ZA0juu9S5ru3"
      },
      "execution_count": null,
      "outputs": []
    },
    {
      "cell_type": "markdown",
      "source": [
        "Fermer un fichier"
      ],
      "metadata": {
        "id": "JCBi2nke5yEI"
      }
    },
    {
      "cell_type": "code",
      "source": [
        "f.close()"
      ],
      "metadata": {
        "id": "3FXK1T965zn4"
      },
      "execution_count": null,
      "outputs": []
    },
    {
      "cell_type": "markdown",
      "source": [
        "Ecrire dans un fichier avec with"
      ],
      "metadata": {
        "id": "CKNyPwu45vlX"
      }
    },
    {
      "cell_type": "code",
      "source": [
        "with open(\"myfile1.txt\", mode=\"w\") as f:\n",
        "    f.writelines(lignes)"
      ],
      "metadata": {
        "id": "TV-DZS9G54gY"
      },
      "execution_count": null,
      "outputs": []
    },
    {
      "cell_type": "markdown",
      "source": [
        "Lire un fichier"
      ],
      "metadata": {
        "id": "B2r5cMEV59CI"
      }
    },
    {
      "cell_type": "code",
      "source": [
        "f= open(\"myfile.txt\",\"r\")\n",
        "lines = f.readlines()\n",
        "print((lines))"
      ],
      "metadata": {
        "id": "Pqd78ROS6AkR",
        "colab": {
          "base_uri": "https://localhost:8080/"
        },
        "outputId": "37841242-baed-4716-88ba-2c1728730a1d"
      },
      "execution_count": null,
      "outputs": [
        {
          "output_type": "stream",
          "name": "stdout",
          "text": [
            "['- ligne 1 \\n', '- ligne 2 \\n', '- ligne 3 \\n']\n"
          ]
        }
      ]
    },
    {
      "cell_type": "markdown",
      "source": [
        "Lire un fichier avec with"
      ],
      "metadata": {
        "id": "f8CaKVwx6JJI"
      }
    },
    {
      "cell_type": "code",
      "source": [
        "with open(\"myfile.txt\", \"r\") as fichier:\n",
        "    for line in fichier:\n",
        "        print(line) "
      ],
      "metadata": {
        "id": "bIBJSCI36FyY",
        "colab": {
          "base_uri": "https://localhost:8080/"
        },
        "outputId": "a212a317-a61a-460a-a37c-48e3ad506cc0"
      },
      "execution_count": null,
      "outputs": [
        {
          "output_type": "stream",
          "name": "stdout",
          "text": [
            "- ligne 1 \n",
            "\n",
            "- ligne 2 \n",
            "\n",
            "- ligne 3 \n",
            "\n"
          ]
        }
      ]
    },
    {
      "cell_type": "markdown",
      "source": [
        "Ouverture du fichier avec le mode ajout"
      ],
      "metadata": {
        "id": "QPFPqQaN7HQX"
      }
    },
    {
      "cell_type": "code",
      "source": [
        "with open(\"myfile.txt\", mode=\"a\") as f:\n",
        "    f.writelines(lignes)"
      ],
      "metadata": {
        "id": "o5cOquBh7HYQ"
      },
      "execution_count": null,
      "outputs": []
    },
    {
      "cell_type": "code",
      "source": [
        "f= open(\"myfile.txt\",\"r\")\n",
        "f.read()\n"
      ],
      "metadata": {
        "colab": {
          "base_uri": "https://localhost:8080/",
          "height": 35
        },
        "id": "VRCRlMt8Sfg5",
        "outputId": "a57332d4-08af-46d0-eef0-3902ef412907"
      },
      "execution_count": null,
      "outputs": [
        {
          "output_type": "execute_result",
          "data": {
            "text/plain": [
              "'- ligne 1 \\n- ligne 2 \\n- ligne 3 \\n- ligne 1 \\n- ligne 2 \\n- ligne 3 \\n'"
            ],
            "application/vnd.google.colaboratory.intrinsic+json": {
              "type": "string"
            }
          },
          "metadata": {},
          "execution_count": 44
        }
      ]
    },
    {
      "cell_type": "code",
      "source": [
        "f.close()"
      ],
      "metadata": {
        "id": "KbVTF-T4SqiS"
      },
      "execution_count": null,
      "outputs": []
    },
    {
      "cell_type": "markdown",
      "source": [
        "Lire n caractères du fichier"
      ],
      "metadata": {
        "id": "Iv7bmGiP7Z3I"
      }
    },
    {
      "cell_type": "code",
      "source": [
        "f= open(\"myfile.txt\",\"r\")\n",
        "f.read(8)"
      ],
      "metadata": {
        "id": "KzurA6OB7dGY",
        "colab": {
          "base_uri": "https://localhost:8080/",
          "height": 35
        },
        "outputId": "68c8dcb0-9aef-4af0-cc28-2d910be21d30"
      },
      "execution_count": null,
      "outputs": [
        {
          "output_type": "execute_result",
          "data": {
            "text/plain": [
              "'- ligne '"
            ],
            "application/vnd.google.colaboratory.intrinsic+json": {
              "type": "string"
            }
          },
          "metadata": {},
          "execution_count": 46
        }
      ]
    },
    {
      "cell_type": "markdown",
      "source": [
        "Savoir la position de lecture"
      ],
      "metadata": {
        "id": "SjWAvqCm7fZo"
      }
    },
    {
      "cell_type": "code",
      "source": [
        "f.tell()"
      ],
      "metadata": {
        "id": "0vp8RxkF7jqv",
        "colab": {
          "base_uri": "https://localhost:8080/"
        },
        "outputId": "d98e84fe-78ac-46d4-deef-14fe855c6b6e"
      },
      "execution_count": null,
      "outputs": [
        {
          "output_type": "execute_result",
          "data": {
            "text/plain": [
              "8"
            ]
          },
          "metadata": {},
          "execution_count": 47
        }
      ]
    },
    {
      "cell_type": "markdown",
      "source": [
        "Changer de position de lecture  dans le fichier"
      ],
      "metadata": {
        "id": "2FnEza7O7ky4"
      }
    },
    {
      "cell_type": "code",
      "source": [
        "f.seek(13)\n",
        "f.read(8)"
      ],
      "metadata": {
        "id": "UKuU8Z6j7o1c",
        "colab": {
          "base_uri": "https://localhost:8080/",
          "height": 35
        },
        "outputId": "b186db01-28df-40ab-80e1-7f8e1a92d0a9"
      },
      "execution_count": null,
      "outputs": [
        {
          "output_type": "execute_result",
          "data": {
            "text/plain": [
              "'ligne 2 '"
            ],
            "application/vnd.google.colaboratory.intrinsic+json": {
              "type": "string"
            }
          },
          "metadata": {},
          "execution_count": 48
        }
      ]
    },
    {
      "cell_type": "markdown",
      "source": [
        "Lecture et écriture à partir d'un fichier csv"
      ],
      "metadata": {
        "id": "n2EU28Go75PY"
      }
    },
    {
      "cell_type": "code",
      "source": [
        "import csv\n",
        "with open('data2.csv','w') as fichiercsv:\n",
        "  writer=csv.writer(fichiercsv)\n",
        "  writer.writerow(['Nom', 'Prénom', 'E-mail', 'Télephone'])\n",
        "  writer.writerow(['benida', 'imen', 'imen.benida@esgitech.tn', '11111'])"
      ],
      "metadata": {
        "id": "bv7lmMYY75bg"
      },
      "execution_count": null,
      "outputs": []
    },
    {
      "cell_type": "code",
      "source": [
        "import csv\n",
        "reader = csv.DictReader(open(r\"data2.csv\"))\n",
        "for raw in reader:\n",
        "  print(raw)"
      ],
      "metadata": {
        "id": "0ZlQj3ux8gqw",
        "colab": {
          "base_uri": "https://localhost:8080/"
        },
        "outputId": "28cef8c8-a237-4984-8147-d769566640d1"
      },
      "execution_count": null,
      "outputs": [
        {
          "output_type": "stream",
          "name": "stdout",
          "text": [
            "OrderedDict([('Nom', 'benida'), ('Prénom', 'imen'), ('E-mail', 'imen.benida@esgitech.tn'), ('Télephone', '11111')])\n"
          ]
        }
      ]
    }
  ]
}